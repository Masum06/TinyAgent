{
  "nbformat": 4,
  "nbformat_minor": 0,
  "metadata": {
    "colab": {
      "provenance": [],
      "toc_visible": true,
      "authorship_tag": "ABX9TyMkczJXIoUWi2XII9xM9m/e",
      "include_colab_link": true
    },
    "kernelspec": {
      "name": "python3",
      "display_name": "Python 3"
    },
    "language_info": {
      "name": "python"
    }
  },
  "cells": [
    {
      "cell_type": "markdown",
      "metadata": {
        "id": "view-in-github",
        "colab_type": "text"
      },
      "source": [
        "<a href=\"https://colab.research.google.com/github/Masum06/TinyAgent/blob/main/TinyAgent_Colab_Noebook.ipynb\" target=\"_parent\"><img src=\"https://colab.research.google.com/assets/colab-badge.svg\" alt=\"Open In Colab\"/></a>"
      ]
    },
    {
      "cell_type": "code",
      "source": [
        "import os, getpass\n",
        "\n",
        "def _set_env(var: str):\n",
        "    if not os.environ.get(var):\n",
        "        os.environ[var] = getpass.getpass(f\"{var}: \")"
      ],
      "metadata": {
        "id": "Wsl---_28-6m"
      },
      "execution_count": null,
      "outputs": []
    },
    {
      "cell_type": "code",
      "source": [
        "_set_env(\"OPENAI_API_KEY\")"
      ],
      "metadata": {
        "colab": {
          "base_uri": "https://localhost:8080/"
        },
        "id": "r2jTVAqy9BQf",
        "outputId": "501f9250-ba6f-4ef1-89b2-2ace79cf58a5"
      },
      "execution_count": null,
      "outputs": [
        {
          "name": "stdout",
          "output_type": "stream",
          "text": [
            "OPENAI_API_KEY: ··········\n"
          ]
        }
      ]
    },
    {
      "cell_type": "code",
      "source": [
        "from openai import OpenAI\n",
        "client = OpenAI()"
      ],
      "metadata": {
        "id": "4B9SmvFp9J8a"
      },
      "execution_count": null,
      "outputs": []
    },
    {
      "cell_type": "code",
      "source": [
        "!pip install -q tiktoken"
      ],
      "metadata": {
        "id": "-XbzuMKAMrk-",
        "outputId": "92723b00-4a33-4e97-8fc7-e400df86b5a2",
        "colab": {
          "base_uri": "https://localhost:8080/"
        }
      },
      "execution_count": null,
      "outputs": [
        {
          "output_type": "stream",
          "name": "stdout",
          "text": [
            "\u001b[?25l   \u001b[90m━━━━━━━━━━━━━━━━━━━━━━━━━━━━━━━━━━━━━━━━\u001b[0m \u001b[32m0.0/1.2 MB\u001b[0m \u001b[31m?\u001b[0m eta \u001b[36m-:--:--\u001b[0m\r\u001b[2K   \u001b[91m━━━━━━━━━━━━━━━━━━━━━━━━━━━━━━━━━━━━━━━\u001b[0m\u001b[91m╸\u001b[0m \u001b[32m1.2/1.2 MB\u001b[0m \u001b[31m40.6 MB/s\u001b[0m eta \u001b[36m0:00:01\u001b[0m\r\u001b[2K   \u001b[90m━━━━━━━━━━━━━━━━━━━━━━━━━━━━━━━━━━━━━━━━\u001b[0m \u001b[32m1.2/1.2 MB\u001b[0m \u001b[31m24.1 MB/s\u001b[0m eta \u001b[36m0:00:00\u001b[0m\n",
            "\u001b[?25h"
          ]
        }
      ]
    },
    {
      "cell_type": "markdown",
      "source": [
        "# TinyAgent"
      ],
      "metadata": {
        "id": "698cBe76CJNS"
      }
    },
    {
      "cell_type": "code",
      "source": [
        "import json\n",
        "import tiktoken\n",
        "\n",
        "class TinyAgent:\n",
        "  def __init__(self, name=\"\", system=\"\"):\n",
        "    self.name = name\n",
        "    self.system = system\n",
        "    self.messages = []\n",
        "    self.temperature = 1\n",
        "    self.max_tokens = 2048\n",
        "    self.model = \"gpt-4.1\"\n",
        "    if name:\n",
        "      self.add_system_message(f\"Your name is {name}.\")\n",
        "    if system:\n",
        "      self.add_system_message(system)\n",
        "\n",
        "  def token_count(self, string):\n",
        "    encoding = tiktoken.encoding_for_model(\"gpt-4o\") # 4.1 not in tiktoken yet\n",
        "    num_tokens = len(encoding.encode(string))\n",
        "    return num_tokens\n",
        "\n",
        "  def prompt_token_count(self):\n",
        "    prompt = \"\"\n",
        "    for message in self.messages:\n",
        "      prompt += message[\"content\"]\n",
        "    return self.token_count(prompt)\n",
        "\n",
        "  def add_message(self,message_type, message):\n",
        "    self.messages.append({\"role\": message_type, \"content\":message})\n",
        "\n",
        "  def add_system_message(self, message):\n",
        "    self.add_message(\"system\", message)\n",
        "\n",
        "  def add_user_message(self, message):\n",
        "    self.add_message(\"user\", message)\n",
        "\n",
        "  def add_instruction(self, instruction):\n",
        "    self.add_system_message(f\"Follow this instruction: \\n{instruction}\\n\\n\")\n",
        "\n",
        "  def add_example(self, input, output):\n",
        "    self.add_system_message(f\"Example Input: {input}\\nExample Output: {output}\\n\\n\")\n",
        "\n",
        "  def add_data(self, data):\n",
        "    self.add_user_message(f\"Data: {data}\\n\\n\")\n",
        "\n",
        "  def set_temperature(self, temperature):\n",
        "    self.temperature = temperature\n",
        "\n",
        "  def set_max_tokens(self, max_tokens):\n",
        "    self.max_tokens = max_tokens\n",
        "\n",
        "  def set_model(self, model):\n",
        "    self.model = model\n",
        "\n",
        "  def call(self, prompt=\"\", response_type=\"text\"):\n",
        "    if prompt:\n",
        "      self.add_user_message(prompt)\n",
        "    response = client.chat.completions.create(\n",
        "      model=self.model,\n",
        "      messages=self.messages,\n",
        "      temperature=self.temperature,\n",
        "      max_tokens=max(self.max_tokens, int(self.prompt_token_count()*2)),\n",
        "      top_p=1,\n",
        "      frequency_penalty=0,\n",
        "      presence_penalty=0,\n",
        "      response_format={\n",
        "        \"type\": response_type # \"text\" or \"json_object\"\n",
        "      }\n",
        "    )\n",
        "    reply = response.choices[0].message.content\n",
        "    self.add_message(\"assistant\", reply)\n",
        "    return reply\n",
        "\n",
        "  def load_json(self,s):\n",
        "    try:\n",
        "        # Attempt to parse the matched JSON\n",
        "        return json.loads(s)\n",
        "    except json.JSONDecodeError:\n",
        "        # Return None if JSON parsing fails\n",
        "        return None\n",
        "\n",
        "  def call_json(self, prompt=\"\"):\n",
        "    prompt += \"\\n\\nOutput must be JSON format.\\n\\n\"\n",
        "    reply = self.call(prompt, response_type=\"json_object\")\n",
        "    try:\n",
        "      reply_json = self.load_json(reply)\n",
        "      if reply_json[-1] != \"}\":\n",
        "        raise Exception(\"Incomplete JSON\")\n",
        "    except:\n",
        "      reply_json = None\n",
        "      print(\"Error parsing JSON\")\n",
        "\n",
        "    return reply_json"
      ],
      "metadata": {
        "id": "N6_28Cta9DoB"
      },
      "execution_count": null,
      "outputs": []
    },
    {
      "cell_type": "code",
      "source": [
        "tiny_agent = TinyAgent(\"tiny_agent 🤖\", \"You perform math.\")"
      ],
      "metadata": {
        "id": "sU2jlGFU_Lgx"
      },
      "execution_count": null,
      "outputs": []
    },
    {
      "cell_type": "code",
      "source": [
        "tiny_agent.messages"
      ],
      "metadata": {
        "colab": {
          "base_uri": "https://localhost:8080/"
        },
        "id": "dG5T6-6X_vLp",
        "outputId": "7bd01a26-39e8-478d-ff87-c14f80159480"
      },
      "execution_count": null,
      "outputs": [
        {
          "output_type": "execute_result",
          "data": {
            "text/plain": [
              "[{'role': 'system', 'content': 'Your name is tiny_agent 🤖.'},\n",
              " {'role': 'system', 'content': 'You perform math.'}]"
            ]
          },
          "metadata": {},
          "execution_count": 7
        }
      ]
    },
    {
      "cell_type": "markdown",
      "source": [
        "## Unstructured Call"
      ],
      "metadata": {
        "id": "TjKzYLqUQKdp"
      }
    },
    {
      "cell_type": "code",
      "source": [
        "tiny_agent.call(\"What's your name?\")"
      ],
      "metadata": {
        "colab": {
          "base_uri": "https://localhost:8080/",
          "height": 35
        },
        "id": "LXmeZ0oN_yFk",
        "outputId": "fc2c2cdf-5c37-49fb-b3a4-8e806d51d241"
      },
      "execution_count": null,
      "outputs": [
        {
          "output_type": "execute_result",
          "data": {
            "text/plain": [
              "'My name is tiny_agent 🤖. How can I help you with math today?'"
            ],
            "application/vnd.google.colaboratory.intrinsic+json": {
              "type": "string"
            }
          },
          "metadata": {},
          "execution_count": 8
        }
      ]
    },
    {
      "cell_type": "code",
      "source": [
        "tiny_agent.messages"
      ],
      "metadata": {
        "colab": {
          "base_uri": "https://localhost:8080/"
        },
        "id": "SqS0vd0WAA1v",
        "outputId": "9acb4e97-f3dd-40af-9a57-1f9d7b56cd57"
      },
      "execution_count": null,
      "outputs": [
        {
          "output_type": "execute_result",
          "data": {
            "text/plain": [
              "[{'role': 'system', 'content': 'Your name is tiny_agent 🤖.'},\n",
              " {'role': 'system', 'content': 'You perform math.'},\n",
              " {'role': 'user', 'content': \"What's your name?\"},\n",
              " {'role': 'assistant',\n",
              "  'content': 'My name is tiny_agent 🤖. How can I help you with math today?'}]"
            ]
          },
          "metadata": {},
          "execution_count": 9
        }
      ]
    },
    {
      "cell_type": "markdown",
      "source": [
        "## Structured Call"
      ],
      "metadata": {
        "id": "7G98SqLFQNBW"
      }
    },
    {
      "cell_type": "code",
      "source": [
        "result = tiny_agent.call_json(\"Give me a list of popular math equations in JSON format.\")\n",
        "result"
      ],
      "metadata": {
        "id": "8AhEL49DQO-J",
        "outputId": "e10452d7-9b47-4788-f9f8-d7acb479bba5",
        "colab": {
          "base_uri": "https://localhost:8080/"
        }
      },
      "execution_count": null,
      "outputs": [
        {
          "output_type": "execute_result",
          "data": {
            "text/plain": [
              "{'popular_math_equations': [{'name': 'Pythagorean Theorem',\n",
              "   'equation': 'a^2 + b^2 = c^2'},\n",
              "  {'name': 'Quadratic Formula', 'equation': 'x = (-b ± √(b^2 - 4ac)) / (2a)'},\n",
              "  {'name': \"Euler's Formula (Complex Analysis)\",\n",
              "   'equation': 'e^{ix} = cos(x) + i·sin(x)'},\n",
              "  {'name': 'Area of a Circle', 'equation': 'A = πr^2'},\n",
              "  {'name': 'Slope of a Line', 'equation': 'm = (y_2 - y_1) / (x_2 - x_1)'},\n",
              "  {'name': \"Newton's Second Law\", 'equation': 'F = ma'},\n",
              "  {'name': 'Logarithm Definition', 'equation': 'log_b(a) = c ↔ b^c = a'},\n",
              "  {'name': 'Binomial Theorem',\n",
              "   'equation': '(a + b)^n = Σ_{k=0}^n (n choose k) a^{n−k} b^k'},\n",
              "  {'name': 'Derivative Definition',\n",
              "   'equation': \"f'(x) = lim_{h→0} [(f(x+h) - f(x)) / h]\"},\n",
              "  {'name': 'Sum of Arithmetic Series', 'equation': 'S_n = n/2 · (a_1 + a_n)'}]}"
            ]
          },
          "metadata": {},
          "execution_count": 10
        }
      ]
    },
    {
      "cell_type": "code",
      "source": [
        "result['popular_math_equations'][0]"
      ],
      "metadata": {
        "id": "RITdbQK0QviD",
        "outputId": "6841079e-8af5-4b0f-c660-d6012c016040",
        "colab": {
          "base_uri": "https://localhost:8080/"
        }
      },
      "execution_count": null,
      "outputs": [
        {
          "output_type": "execute_result",
          "data": {
            "text/plain": [
              "{'name': 'Pythagorean Theorem', 'equation': 'a^2 + b^2 = c^2'}"
            ]
          },
          "metadata": {},
          "execution_count": 11
        }
      ]
    },
    {
      "cell_type": "code",
      "source": [],
      "metadata": {
        "id": "7aJgG_n9Q1E1"
      },
      "execution_count": null,
      "outputs": []
    }
  ]
}