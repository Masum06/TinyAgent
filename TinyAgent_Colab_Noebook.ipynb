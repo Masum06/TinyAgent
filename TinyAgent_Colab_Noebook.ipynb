{
  "nbformat": 4,
  "nbformat_minor": 0,
  "metadata": {
    "colab": {
      "provenance": [],
      "toc_visible": true,
      "authorship_tag": "ABX9TyPKNDOfLj8L5MEtwXicb6Fm",
      "include_colab_link": true
    },
    "kernelspec": {
      "name": "python3",
      "display_name": "Python 3"
    },
    "language_info": {
      "name": "python"
    }
  },
  "cells": [
    {
      "cell_type": "markdown",
      "metadata": {
        "id": "view-in-github",
        "colab_type": "text"
      },
      "source": [
        "<a href=\"https://colab.research.google.com/github/Masum06/TinyAgent/blob/main/TinyAgent_Colab_Noebook.ipynb\" target=\"_parent\"><img src=\"https://colab.research.google.com/assets/colab-badge.svg\" alt=\"Open In Colab\"/></a>"
      ]
    },
    {
      "cell_type": "code",
      "source": [
        "import os, getpass\n",
        "\n",
        "def _set_env(var: str):\n",
        "    if not os.environ.get(var):\n",
        "        os.environ[var] = getpass.getpass(f\"{var}: \")"
      ],
      "metadata": {
        "id": "Wsl---_28-6m"
      },
      "execution_count": 1,
      "outputs": []
    },
    {
      "cell_type": "code",
      "source": [
        "_set_env(\"OPENAI_API_KEY\")"
      ],
      "metadata": {
        "colab": {
          "base_uri": "https://localhost:8080/"
        },
        "id": "r2jTVAqy9BQf",
        "outputId": "68d969ef-f337-4f2e-ea8f-8c71be630dc0"
      },
      "execution_count": 2,
      "outputs": [
        {
          "name": "stdout",
          "output_type": "stream",
          "text": [
            "OPENAI_API_KEY: ··········\n"
          ]
        }
      ]
    },
    {
      "cell_type": "code",
      "source": [
        "!pip install -q tiktoken"
      ],
      "metadata": {
        "id": "-XbzuMKAMrk-"
      },
      "execution_count": 3,
      "outputs": []
    },
    {
      "cell_type": "markdown",
      "source": [
        "# TinyAgent"
      ],
      "metadata": {
        "id": "698cBe76CJNS"
      }
    },
    {
      "cell_type": "code",
      "source": [
        "import json\n",
        "import tiktoken\n",
        "from openai import OpenAI\n",
        "\n",
        "client = OpenAI()"
      ],
      "metadata": {
        "id": "lEIqZLGKx7s-"
      },
      "execution_count": 4,
      "outputs": []
    },
    {
      "cell_type": "code",
      "source": [
        "# @title\n",
        "class TinyAgent:\n",
        "\n",
        "    def __init__(self, model, tokenizer=None, debug=False):\n",
        "\n",
        "        self.model = model\n",
        "        self.messages = []\n",
        "        self.max_tokens = 3072\n",
        "        self.debug = False\n",
        "        self.reasoning_effort = \"low\"\n",
        "        self.temperature = 1\n",
        "\n",
        "    def clear_messages(self):\n",
        "        self.messages = list()\n",
        "\n",
        "    def add_message(self,message_type, message):\n",
        "        self.messages.append({\"role\": message_type, \"content\":message})\n",
        "\n",
        "    def add_system_message(self, message):\n",
        "        self.add_message(\"system\", message)\n",
        "\n",
        "    def add_user_message(self, message):\n",
        "        self.add_message(\"user\", message)\n",
        "\n",
        "    def add_assistant_message(self, message):\n",
        "        self.add_message(\"assistant\", message)\n",
        "\n",
        "    def set_max_tokens(self, max_tokens):\n",
        "        self.max_tokens = max_tokens\n",
        "\n",
        "    def set_debug(self, debug):\n",
        "        self.debug = debug\n",
        "\n",
        "    def set_reasoning_effort(self, reasoning_effort):\n",
        "        self.reasoning_effort = reasoning_effort\n",
        "\n",
        "    def call(self, prompt=\"\", response_type=\"text\", cache=True):\n",
        "        messages = self.messages.copy()\n",
        "        if prompt:\n",
        "            messages.append({\"role\": \"user\", \"content\":prompt})\n",
        "        if cache:\n",
        "            self.add_user_message(prompt)\n",
        "\n",
        "        if \"gpt-5\" in self.model:\n",
        "            response = client.responses.create(\n",
        "                model=self.model,\n",
        "                input=messages,\n",
        "                reasoning={\"effort\": self.reasoning_effort},\n",
        "                text={\n",
        "                    \"format\": {\n",
        "                      \"type\": response_type\n",
        "                    },\n",
        "                    \"verbosity\": \"low\"\n",
        "                  },\n",
        "            )\n",
        "            reply = response.output_text\n",
        "\n",
        "        elif \"gpt-4\" in self.model:\n",
        "            response = client.responses.create(\n",
        "              model=self.model,\n",
        "              input=messages,\n",
        "              temperature=self.temperature,\n",
        "              max_output_tokens=self.max_tokens,\n",
        "              top_p=1,\n",
        "              text={\n",
        "                \"format\": {\n",
        "                  \"type\": response_type # \"text\", \"json_object\"\n",
        "                }\n",
        "              }\n",
        "            )\n",
        "            reply = response.output_text\n",
        "        if self.debug:\n",
        "            print(reply)\n",
        "        if cache:\n",
        "            self.add_assistant_message(reply)\n",
        "        return reply\n",
        "\n",
        "    def load_json(self,s):\n",
        "        import json\n",
        "        try:\n",
        "            return json.loads(s)\n",
        "        except json.JSONDecodeError:\n",
        "            return None\n",
        "\n",
        "    def call_json(self, prompt=\"\"):\n",
        "        self.add_system_message(\"Reply must be JSON format.\")\n",
        "        reply = self.call(prompt=prompt, response_type=\"json_object\")\n",
        "        if not reply:\n",
        "            print(\"Empty reply\")\n",
        "            return None\n",
        "\n",
        "        reply = reply.strip()\n",
        "        if reply.startswith(\"```json\"):\n",
        "            reply = reply[len(\"```json\"):].strip()\n",
        "            if reply.endswith(\"```\"):\n",
        "                reply = reply[:-3].strip()\n",
        "\n",
        "        # Use OR, and guard length\n",
        "        if not (reply.startswith(\"{\") and reply.endswith(\"}\")):\n",
        "            print(\"Not JSON structure\")\n",
        "            return None\n",
        "\n",
        "        try:\n",
        "            return self.load_json(reply)\n",
        "        except Exception:\n",
        "            print(\"Error parsing JSON\")\n",
        "            return None"
      ],
      "metadata": {
        "id": "N6_28Cta9DoB"
      },
      "execution_count": 52,
      "outputs": []
    },
    {
      "cell_type": "code",
      "source": [
        "tiny_agent = TinyAgent(\"gpt-4.1\")"
      ],
      "metadata": {
        "id": "sU2jlGFU_Lgx"
      },
      "execution_count": 53,
      "outputs": []
    },
    {
      "cell_type": "code",
      "source": [
        "tiny_agent.messages"
      ],
      "metadata": {
        "colab": {
          "base_uri": "https://localhost:8080/"
        },
        "id": "dG5T6-6X_vLp",
        "outputId": "9be6f158-4798-4647-f29b-df12befcb9ff"
      },
      "execution_count": 54,
      "outputs": [
        {
          "output_type": "execute_result",
          "data": {
            "text/plain": [
              "[]"
            ]
          },
          "metadata": {},
          "execution_count": 54
        }
      ]
    },
    {
      "cell_type": "markdown",
      "source": [
        "## Unstructured Call"
      ],
      "metadata": {
        "id": "TjKzYLqUQKdp"
      }
    },
    {
      "cell_type": "code",
      "source": [
        "tiny_agent.call(\"What's your name?\", cache=False)"
      ],
      "metadata": {
        "colab": {
          "base_uri": "https://localhost:8080/",
          "height": 35
        },
        "id": "LXmeZ0oN_yFk",
        "outputId": "8774625e-e1c3-4632-bc8e-0e857d33cd83"
      },
      "execution_count": 55,
      "outputs": [
        {
          "output_type": "execute_result",
          "data": {
            "text/plain": [
              "\"I'm ChatGPT, an AI developed by OpenAI. How can I help you today?\""
            ],
            "application/vnd.google.colaboratory.intrinsic+json": {
              "type": "string"
            }
          },
          "metadata": {},
          "execution_count": 55
        }
      ]
    },
    {
      "cell_type": "code",
      "source": [
        "tiny_agent.messages"
      ],
      "metadata": {
        "colab": {
          "base_uri": "https://localhost:8080/"
        },
        "id": "SqS0vd0WAA1v",
        "outputId": "b06ce93b-a5ec-48a0-b9aa-5208e9ed1723"
      },
      "execution_count": 56,
      "outputs": [
        {
          "output_type": "execute_result",
          "data": {
            "text/plain": [
              "[]"
            ]
          },
          "metadata": {},
          "execution_count": 56
        }
      ]
    },
    {
      "cell_type": "code",
      "source": [
        "tiny_agent.call(\"What can you do?\", cache=True)"
      ],
      "metadata": {
        "id": "_1_uw9Jl0TF6",
        "outputId": "6d431d64-19b0-42e0-ee1e-fb6ce3f5b1bc",
        "colab": {
          "base_uri": "https://localhost:8080/",
          "height": 127
        }
      },
      "execution_count": 59,
      "outputs": [
        {
          "output_type": "execute_result",
          "data": {
            "text/plain": [
              "'I’m ChatGPT, an AI language model based on OpenAI’s GPT-4. I can help you with a wide range of tasks! Here are some things I can do:\\n\\n### **Text-based Assistance**\\n- **Answer Questions:** Explain concepts, facts, history, and much more.\\n- **Writing Help:** Draft emails, essays, articles, stories, speeches, and poems.\\n- **Editing & Proofreading:** Improve clarity, grammar, and style in your writing.\\n- **Summarize Content:** Summarize articles, books, or documents.\\n- **Translation:** Translate between multiple languages.\\n- **Research:** Gather and structure information on many topics.\\n- **Idea Generation:** Brainstorm about projects, names, business ideas, or creative writing prompts.\\n\\n### **Technical Help**\\n- **Code Writing & Debugging:** Write, explain, and debug code in many programming languages.\\n- **Math Assistance:** Solve math problems, explain solutions, and guide through concepts.\\n- **Data Analysis:** Help with statistics, data interpretation, and even some spreadsheet formulas.\\n\\n### **Personal Help**\\n- **Learning Support:** Help you learn new skills or study for exams.\\n- **Planning:** Create study plans, workout routines, trip itineraries, or event schedules.\\n- **Recommendations:** Suggest books, movies, recipes, and more.\\n\\n### **Image Capabilities**\\n- **Image Analysis:** I can \"see\" images and help describe or analyze them.\\n    - **Interpret diagrams/charts.**\\n    - **Identify objects or scenes.**\\n    - **Extract and summarize text from images.**\\n    - **Solve visual math problems.**\\n\\n### **Customization**\\n- **Conversational Personality:** Adjust tone (formal, friendly, concise, humorous, etc.).\\n- **Role Play or Simulation:** Pretend to be a teacher, interviewer, business consultant, etc.\\n\\n### **Limitations**\\n- **Knowledge cutoff:** My knowledge goes up to June 2024 and I cannot browse the live web.\\n- **No real-world actions:** I can’t make phone calls, send emails, or interact with physical devices (except via API in supported environments).\\n- **Accuracy:** I strive for accuracy but can sometimes make mistakes or provide outdated info.\\n\\n**What would you like help with today?**'"
            ],
            "application/vnd.google.colaboratory.intrinsic+json": {
              "type": "string"
            }
          },
          "metadata": {},
          "execution_count": 59
        }
      ]
    },
    {
      "cell_type": "code",
      "source": [
        "tiny_agent.messages"
      ],
      "metadata": {
        "id": "0G7QJoxb0WhY",
        "outputId": "ae8d1159-93f4-4ff1-94bd-94f4f3c8af34",
        "colab": {
          "base_uri": "https://localhost:8080/"
        }
      },
      "execution_count": 60,
      "outputs": [
        {
          "output_type": "execute_result",
          "data": {
            "text/plain": [
              "[{'role': 'user', 'content': 'What can you do?'},\n",
              " {'role': 'assistant',\n",
              "  'content': 'I’m ChatGPT, an AI language model based on OpenAI’s GPT-4. I can help you with a wide range of tasks! Here are some things I can do:\\n\\n### **Text-based Assistance**\\n- **Answer Questions:** Explain concepts, facts, history, and much more.\\n- **Writing Help:** Draft emails, essays, articles, stories, speeches, and poems.\\n- **Editing & Proofreading:** Improve clarity, grammar, and style in your writing.\\n- **Summarize Content:** Summarize articles, books, or documents.\\n- **Translation:** Translate between multiple languages.\\n- **Research:** Gather and structure information on many topics.\\n- **Idea Generation:** Brainstorm about projects, names, business ideas, or creative writing prompts.\\n\\n### **Technical Help**\\n- **Code Writing & Debugging:** Write, explain, and debug code in many programming languages.\\n- **Math Assistance:** Solve math problems, explain solutions, and guide through concepts.\\n- **Data Analysis:** Help with statistics, data interpretation, and even some spreadsheet formulas.\\n\\n### **Personal Help**\\n- **Learning Support:** Help you learn new skills or study for exams.\\n- **Planning:** Create study plans, workout routines, trip itineraries, or event schedules.\\n- **Recommendations:** Suggest books, movies, recipes, and more.\\n\\n### **Image Capabilities**\\n- **Image Analysis:** I can \"see\" images and help describe or analyze them.\\n    - **Interpret diagrams/charts.**\\n    - **Identify objects or scenes.**\\n    - **Extract and summarize text from images.**\\n    - **Solve visual math problems.**\\n\\n### **Customization**\\n- **Conversational Personality:** Adjust tone (formal, friendly, concise, humorous, etc.).\\n- **Role Play or Simulation:** Pretend to be a teacher, interviewer, business consultant, etc.\\n\\n### **Limitations**\\n- **Knowledge cutoff:** My knowledge goes up to June 2024 and I cannot browse the live web.\\n- **No real-world actions:** I can’t make phone calls, send emails, or interact with physical devices (except via API in supported environments).\\n- **Accuracy:** I strive for accuracy but can sometimes make mistakes or provide outdated info.\\n\\n**What would you like help with today?**'}]"
            ]
          },
          "metadata": {},
          "execution_count": 60
        }
      ]
    },
    {
      "cell_type": "markdown",
      "source": [
        "## Structured Call"
      ],
      "metadata": {
        "id": "7G98SqLFQNBW"
      }
    },
    {
      "cell_type": "code",
      "source": [
        "result = tiny_agent.call_json(\"Give me a list of popular math equations in JSON format. Key: popular_math_equations\")\n",
        "result"
      ],
      "metadata": {
        "id": "8AhEL49DQO-J",
        "outputId": "5ba531ba-b54f-43e7-eacb-2c897faffc22",
        "colab": {
          "base_uri": "https://localhost:8080/"
        }
      },
      "execution_count": 64,
      "outputs": [
        {
          "output_type": "execute_result",
          "data": {
            "text/plain": [
              "{'popular_math_equations': [{'name': 'Pythagorean Theorem',\n",
              "   'equation': 'a^2 + b^2 = c^2'},\n",
              "  {'name': 'Quadratic Formula',\n",
              "   'equation': 'x = [-b ± sqrt(b^2 - 4ac)] / (2a)'},\n",
              "  {'name': \"Euler's Formula\", 'equation': 'e^{ix} = cos(x) + i*sin(x)'},\n",
              "  {'name': 'Area of a Circle', 'equation': 'A = πr^2'},\n",
              "  {'name': 'Slope Formula', 'equation': 'm = (y_2 - y_1) / (x_2 - x_1)'},\n",
              "  {'name': 'Einstein’s Mass-Energy Equivalence', 'equation': 'E = mc^2'},\n",
              "  {'name': 'Derivative Definition',\n",
              "   'equation': \"f'(x) = lim_{h\\\\to0} (f(x+h) - f(x)) / h\"},\n",
              "  {'name': 'Sum of a Geometric Series',\n",
              "   'equation': 'S_n = a_1(1 - r^n) / (1 - r)'},\n",
              "  {'name': 'Binomial Theorem',\n",
              "   'equation': '(a + b)^n = \\\\sum_{k=0}^{n} C(n, k)a^{n-k}b^k'},\n",
              "  {'name': 'Law of Sines', 'equation': 'sin(A)/a = sin(B)/b = sin(C)/c'}]}"
            ]
          },
          "metadata": {},
          "execution_count": 64
        }
      ]
    },
    {
      "cell_type": "code",
      "source": [
        "result['popular_math_equations'][0]"
      ],
      "metadata": {
        "id": "RITdbQK0QviD",
        "outputId": "bba12ad0-cd39-4b2d-bb7d-5a9b48b63572",
        "colab": {
          "base_uri": "https://localhost:8080/"
        }
      },
      "execution_count": 65,
      "outputs": [
        {
          "output_type": "execute_result",
          "data": {
            "text/plain": [
              "{'name': 'Pythagorean Theorem', 'equation': 'a^2 + b^2 = c^2'}"
            ]
          },
          "metadata": {},
          "execution_count": 65
        }
      ]
    },
    {
      "cell_type": "code",
      "source": [],
      "metadata": {
        "id": "7aJgG_n9Q1E1"
      },
      "execution_count": null,
      "outputs": []
    }
  ]
}